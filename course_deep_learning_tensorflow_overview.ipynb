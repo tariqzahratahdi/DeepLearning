{
  "nbformat": 4,
  "nbformat_minor": 0,
  "metadata": {
    "colab": {
      "provenance": [],
      "authorship_tag": "ABX9TyPPe8f3WdZDrvZv1maExicK"
    },
    "kernelspec": {
      "name": "python3",
      "display_name": "Python 3"
    },
    "language_info": {
      "name": "python"
    }
  },
  "cells": [
    {
      "cell_type": "markdown",
      "source": [
        "# TensorFlow Overview\n",
        "\n",
        "**TensorFlow** is an end-to-end platform for machine learning.\n",
        "\n",
        "It supports the following:\n",
        "* Multidimensional-array based numeric computation (similar to NumPy.)\n",
        "* GPU and distributed processing\n",
        "* Automatic differentiation\n",
        "* Model construction, training, and export\n",
        "* And more"
      ],
      "metadata": {
        "id": "W-bMsqlM-Y1J"
      }
    },
    {
      "cell_type": "markdown",
      "source": [
        "## Tensors\n",
        "\n",
        "TensorFlow operates on multidimensional arrays or tensors represented as **`tf.Tensor`** objects.\n",
        "\n",
        "Here is a two-dimensional tensor:"
      ],
      "metadata": {
        "id": "GrOffQn8-0Ti"
      }
    },
    {
      "cell_type": "code",
      "execution_count": null,
      "metadata": {
        "colab": {
          "base_uri": "https://localhost:8080/"
        },
        "id": "onHyrdaS-Rk7",
        "outputId": "1bbe736d-1168-4782-8d2e-e89097fffa2b"
      },
      "outputs": [
        {
          "output_type": "stream",
          "name": "stdout",
          "text": [
            "tf.Tensor(\n",
            "[[1. 2. 3.]\n",
            " [4. 5. 6.]], shape=(2, 3), dtype=float32)\n",
            "(2, 3)\n",
            "<dtype: 'float32'>\n"
          ]
        }
      ],
      "source": [
        "# import TensorFlow\n",
        "import tensorflow as tf\n",
        "\n",
        "# create a tensor\n",
        "x = tf.constant([[1., 2., 3.],\n",
        "                 [4., 5., 6.]])\n",
        "\n",
        "print(x)\n",
        "print(x.shape)\n",
        "print(x.dtype)"
      ]
    },
    {
      "cell_type": "markdown",
      "source": [
        "The most important attributes of a **`tf.Tensor`** are its `shape` and `dtype`:\n",
        "\n",
        "* **`Tensor.shape`**: tells you the size of the tensor along each of its axes.\n",
        "* **`Tensor.dtype`**: tells you the type of all the elements in the tensor.\n",
        "\n",
        "TensorFlow implements standard mathematical operations on tensors, as well as many operations specialized for machine learning.\n",
        "\n"
      ],
      "metadata": {
        "id": "r8ZbmF0c_TKg"
      }
    },
    {
      "cell_type": "markdown",
      "source": [
        "## Automatic differentiation\n",
        "\n",
        "Gradient descent and related algorithms are a cornerstone of modern machine learning.\n",
        "\n",
        "To enable this, TensorFlow implements automatic differentiation (autodiff), which uses calculus to compute gradients.\n",
        "\n",
        "Typically you'll use this to calculate the gradient of a model's *error* or *loss* with respect to its weights.\n",
        "\n"
      ],
      "metadata": {
        "id": "_7lj3FcuACFR"
      }
    },
    {
      "cell_type": "markdown",
      "source": [
        "## Keras\n",
        "\n",
        "**Keras** is the high-level API of the TensorFlow platform.\n",
        "\n",
        "It provides an approachable, highly-productive interface for solving machine learning (ML) problems, with a focus on modern deep learning."
      ],
      "metadata": {
        "id": "OSsW_JorBHiR"
      }
    },
    {
      "cell_type": "markdown",
      "source": [
        "### Keras API components\n",
        "\n",
        "The core data structures of Keras are layers and models.\n",
        "\n",
        "A layer is a simple input/output transformation, and a model is a directed acyclic graph (DAG) of layers.\n",
        "\n",
        "A directed acyclic graph (DAG) is a type of graph in mathematics and computer science that consists of vertices (nodes) connected by directed edges (arrows) that do not form any closed loops or cycles."
      ],
      "metadata": {
        "id": "w0Y1Ds9aBnyx"
      }
    },
    {
      "cell_type": "markdown",
      "source": [
        "#### Layers\n",
        "\n",
        "The **`tf.keras.layers.Layer`** class is the fundamental abstraction in Keras.\n",
        "\n",
        "A Layer encapsulates a state (weights) and some computation (defined in the **`tf.keras.layers.Layer.call`** method)."
      ],
      "metadata": {
        "id": "wfotkBuUCSkc"
      }
    },
    {
      "cell_type": "markdown",
      "source": [
        "#### Models\n",
        "\n",
        "A model is an object that groups layers together and that can be trained on data.\n",
        "\n",
        "The simplest type of model is the **`Sequential`** model, which is a linear stack of layers."
      ],
      "metadata": {
        "id": "NFTQevMPCrzP"
      }
    },
    {
      "cell_type": "markdown",
      "source": [
        "The **`tf.keras.Model`** class features built-in training and evaluation methods:\n",
        "\n",
        "* **`tf.keras.Model.fit`**: Trains the model for a fixed number of epochs.\n",
        "* **`tf.keras.Model.predict`**: Generates output predictions for the input samples.\n",
        "* **`tf.keras.Model.evaluate`**: Returns the loss and metrics values for the model; configured via the **`tf.keras.Model.compile`** method.\n"
      ],
      "metadata": {
        "id": "MbXVefHKDABW"
      }
    }
  ]
}